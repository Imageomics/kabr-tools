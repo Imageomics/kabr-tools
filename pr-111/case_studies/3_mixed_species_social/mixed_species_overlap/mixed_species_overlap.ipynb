{
 "cells": [
  {
   "cell_type": "markdown",
   "metadata": {},
   "source": [
    "# Use bounding boxes to detect inter- and intra-species interactions"
   ]
  },
  {
   "cell_type": "code",
   "execution_count": 1,
   "metadata": {},
   "outputs": [
    {
     "name": "stderr",
     "output_type": "stream",
     "text": [
      "/users/PAS2136/kline377/.conda/envs/auto_drone/lib/python3.9/site-packages/pandas/core/arrays/masked.py:60: UserWarning: Pandas requires version '1.3.6' or newer of 'bottleneck' (version '1.3.5' currently installed).\n",
      "  from pandas.core import (\n"
     ]
    }
   ],
   "source": [
    "import xml.etree.ElementTree as ET\n",
    "from shapely.geometry import box\n",
    "from itertools import combinations\n",
    "from collections import defaultdict, Counter\n",
    "import os\n",
    "import pandas as pd\n",
    "warnings.filterwarnings('ignore')"
   ]
  },
  {
   "cell_type": "markdown",
   "metadata": {},
   "source": [
    "## First, count the number of mini-scenes for each species"
   ]
  },
  {
   "cell_type": "code",
   "execution_count": 11,
   "metadata": {},
   "outputs": [
    {
     "name": "stdout",
     "output_type": "stream",
     "text": [
      "\n",
      "=== Total track counts across all files ===\n",
      "Grevys Zebra         : 101\n",
      "Giraffe              : 56\n",
      "Plains Zebra         : 5\n"
     ]
    }
   ],
   "source": [
    "from collections import Counter\n",
    "import xml.etree.ElementTree as ET\n",
    "from pathlib import Path\n",
    "import csv   # only needed if you want CSV output\n",
    "\n",
    "# ---------------------------------------------------------------------\n",
    "# 1.  CONFIGURE THESE TWO LINES\n",
    "# ---------------------------------------------------------------------\n",
    "input_dir = \"detections\"\n",
    "data_root = Path(input_dir)  # top‑level directory\n",
    "xml_pattern = \"**/*.xml\"                             # recursive search\n",
    "\n",
    "# ---------------------------------------------------------------------\n",
    "# 2.  GATHER COUNTS ACROSS ALL FILES\n",
    "# ---------------------------------------------------------------------\n",
    "species_totals = Counter()\n",
    "\n",
    "for xml_file in data_root.glob(xml_pattern):\n",
    "    try:\n",
    "        root = ET.parse(xml_file).getroot()\n",
    "        species_totals.update(\n",
    "            track.attrib[\"label\"]\n",
    "            for track in root.findall(\".//track\")\n",
    "        )\n",
    "    except ET.ParseError as e:\n",
    "        print(f\"⚠️  Skipped {xml_file.name} → parse error: {e}\")\n",
    "\n",
    "# ---------------------------------------------------------------------\n",
    "# 3.  DISPLAY RESULTS\n",
    "# ---------------------------------------------------------------------\n",
    "print(\"\\n=== Total track counts across all files ===\")\n",
    "for label, n in species_totals.most_common():\n",
    "    print(f\"{label:<20} : {n}\")\n",
    "\n",
    "# "
   ]
  },
  {
   "cell_type": "markdown",
   "metadata": {},
   "source": [
    "## Parse the files to find where species overlap"
   ]
  },
  {
   "cell_type": "code",
   "execution_count": 2,
   "metadata": {},
   "outputs": [
    {
     "name": "stderr",
     "output_type": "stream",
     "text": [
      "/users/PAS2136/kline377/.conda/envs/auto_drone/lib/python3.9/site-packages/pandas/core/arrays/masked.py:60: UserWarning: Pandas requires version '1.3.6' or newer of 'bottleneck' (version '1.3.5' currently installed).\n",
      "  from pandas.core import (\n"
     ]
    },
    {
     "name": "stdout",
     "output_type": "stream",
     "text": [
      "                Species Pair  Overlap Count\n",
      "0  Grevys Zebra–Grevys Zebra           4836\n",
      "1  Plains Zebra–Plains Zebra             93\n",
      "2            Giraffe–Giraffe             78\n",
      "3  Grevys Zebra–Plains Zebra             28\n"
     ]
    }
   ],
   "source": [
    "\n",
    "# --- CONFIGURATION ---\n",
    "iou_threshold = 0.5  # Minimum intersection threshold (non-zero for robustness)\n",
    "species_of_interest = [\"Grevys Zebra\", \"Plains Zebra\", \"Giraffe\"]\n",
    "input_dir = \"detections\"  # <-- update this\n",
    "\n",
    "# --- PARSE XML ---\n",
    "def parse_xml(filepath):\n",
    "    tree = ET.parse(filepath)\n",
    "    root = tree.getroot()\n",
    "    frame_data = defaultdict(list)\n",
    "\n",
    "    for track in root.findall(\"track\"):\n",
    "        species = track.attrib[\"label\"]\n",
    "        if species not in species_of_interest:\n",
    "            continue\n",
    "        for box_elem in track.findall(\"box\"):\n",
    "            if box_elem.attrib[\"outside\"] == \"1\":\n",
    "                continue  # Skip invisible boxes\n",
    "            frame = int(box_elem.attrib[\"frame\"])\n",
    "            xtl = float(box_elem.attrib[\"xtl\"])\n",
    "            ytl = float(box_elem.attrib[\"ytl\"])\n",
    "            xbr = float(box_elem.attrib[\"xbr\"])\n",
    "            ybr = float(box_elem.attrib[\"ybr\"])\n",
    "            shape = box(xtl, ytl, xbr, ybr)\n",
    "            frame_data[frame].append({\"species\": species, \"bbox\": shape})\n",
    "    return frame_data\n",
    "\n",
    "# --- COMPUTE OVERLAPS ---\n",
    "def compute_overlaps(frame_data):\n",
    "    overlap_counts = Counter()\n",
    "    for frame, objects in frame_data.items():\n",
    "        for a, b in combinations(objects, 2):\n",
    "            if a[\"bbox\"].intersects(b[\"bbox\"]):\n",
    "                inter_area = a[\"bbox\"].intersection(b[\"bbox\"]).area\n",
    "                union_area = a[\"bbox\"].union(b[\"bbox\"]).area\n",
    "                iou = inter_area / union_area\n",
    "                if iou >= iou_threshold:\n",
    "                    sp_a = a[\"species\"]\n",
    "                    sp_b = b[\"species\"]\n",
    "                    pair = tuple(sorted([sp_a, sp_b]))\n",
    "                    overlap_counts[pair] += 1\n",
    "    return overlap_counts\n",
    "\n",
    "# --- MAIN LOOP ---\n",
    "total_counts = Counter()\n",
    "\n",
    "for filename in os.listdir(input_dir):\n",
    "    if filename.endswith(\".xml\"):\n",
    "        path = os.path.join(input_dir, filename)\n",
    "        frame_data = parse_xml(path)\n",
    "        overlap_counts = compute_overlaps(frame_data)\n",
    "        total_counts.update(overlap_counts)\n",
    "\n",
    "# --- FORMAT RESULTS ---\n",
    "df = pd.DataFrame(\n",
    "    [{\"Species Pair\": f\"{a}–{b}\", \"Overlap Count\": count} for (a, b), count in total_counts.items()]\n",
    ")\n",
    "df = df.sort_values(by=\"Overlap Count\", ascending=False).reset_index(drop=True)\n",
    "\n",
    "# --- DISPLAY OR SAVE ---\n",
    "print(df)\n",
    "# Optionally save:\n",
    "# df.to_csv(\"overlap_summary.csv\", index=False)\n"
   ]
  },
  {
   "cell_type": "code",
   "execution_count": 4,
   "metadata": {},
   "outputs": [
    {
     "name": "stdout",
     "output_type": "stream",
     "text": [
      "\n",
      "Total interactions across all files: 5035\n"
     ]
    }
   ],
   "source": [
    "total_interactions = sum(total_counts.values())\n",
    "print(f\"\\nTotal interactions across all files: {total_interactions}\")"
   ]
  },
  {
   "cell_type": "markdown",
   "metadata": {},
   "source": []
  }
 ],
 "metadata": {
  "kernelspec": {
   "display_name": "auto_drone",
   "language": "python",
   "name": "python3"
  },
  "language_info": {
   "codemirror_mode": {
    "name": "ipython",
    "version": 3
   },
   "file_extension": ".py",
   "mimetype": "text/x-python",
   "name": "python",
   "nbconvert_exporter": "python",
   "pygments_lexer": "ipython3",
   "version": "3.9.18"
  }
 },
 "nbformat": 4,
 "nbformat_minor": 2
}
