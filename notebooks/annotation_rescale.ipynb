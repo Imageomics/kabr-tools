{
 "cells": [
  {
   "cell_type": "markdown",
   "id": "26550f4e",
   "metadata": {},
   "source": [
    "# Mini-scene creation from rescaled CVAT annotations\n",
    "\n",
    "This notebooks provides step-by-step instructions for creating mini-scene videos from CVAT annotations.\n",
    "If [downgrade.sh](/helper_scripts/downgrade.sh) is used to reduce the video size to upload to CVAT, upscale the annotations in Step 2. Step 3 converts the CVAT annotations to a tracks xml file. Step 4 uses the tracks file to extract mini-scenes videos for each animal from the the original video.\n",
    "\n",
    "Inputs: \n",
    "- original video in mp4 format\n",
    "- CVAT detection annotations in json format, containing bounding boxes around the animals in view\n",
    "- directory to save tracks files\n",
    "\n",
    "Output: \n",
    "- mini-scenes in mp4 format (video clips centered on a singular animal)"
   ]
  },
  {
   "cell_type": "markdown",
   "id": "7028f704",
   "metadata": {},
   "source": [
    "## Step 1: Enter script inputs"
   ]
  },
  {
   "cell_type": "code",
   "execution_count": null,
   "id": "bbd4ddb3",
   "metadata": {},
   "outputs": [],
   "source": [
    "# path to video mp4\n",
    "video_path = \"replace_me\"\n",
    "\n",
    "# path to CVAT export xml\n",
    "annotation_path = \"replace_me\"\n",
    "\n",
    "# set path to save the tracks file\n",
    "tracks_location = \"replace_me\"\n",
    "\n",
    "# scaling factor for the video\n",
    "# default from helper_scripts/downgrade.sh is to downscale video to 1/3 of original size\n",
    "scaling_factor = 3 "
   ]
  },
  {
   "cell_type": "code",
   "execution_count": null,
   "id": "2990b3fe",
   "metadata": {},
   "outputs": [],
   "source": [
    "# import libraries\n",
    "import os\n",
    "from lxml import etree\n",
    "from collections import OrderedDict"
   ]
  },
  {
   "cell_type": "markdown",
   "id": "379d3092",
   "metadata": {},
   "source": [
    "## Step 2: upscale annotations to match original video resolution (optional)\n",
    "\n",
    "This step is required if downgraded videos were used to create the bounding boxes in CVAT"
   ]
  },
  {
   "cell_type": "code",
   "execution_count": null,
   "id": "8fb0b90f",
   "metadata": {},
   "outputs": [],
   "source": [
    "# create tracks directory\n",
    "root = etree.parse(annotation_path).getroot()\n",
    "annotated = dict()\n",
    "track2end = {}\n",
    "\n",
    "# iterate over all tracks in the annotation file\n",
    "for track in root.iterfind(\"track\"):\n",
    "    track_id = int(track.attrib[\"id\"])\n",
    "\n",
    "    # iterate over all bounding boxes in the track\n",
    "    for box in track.iter(\"box\"):\n",
    "        frame_id = int(box.attrib[\"frame\"])\n",
    "        keyframe = int(box.attrib[\"keyframe\"])\n",
    "\n",
    "        # store the last frame of the track\n",
    "        if keyframe == 1:\n",
    "            track2end[track_id] = frame_id\n",
    "\n",
    "# iterate over all tracks in the annotation file\n",
    "for track in root.iterfind(\"track\"):\n",
    "    track_id = int(track.attrib[\"id\"])\n",
    "\n",
    "    # iterate over all bounding boxes in the track\n",
    "    for box in track.iter(\"box\"):\n",
    "        frame_id = int(box.attrib[\"frame\"])\n",
    "        keyframe = int(box.attrib[\"keyframe\"])\n",
    "\n",
    "        # only store bounding boxes for frames that are within the track's duration\n",
    "        if frame_id <= track2end[track_id]:\n",
    "            if annotated.get(track_id) is None:\n",
    "                annotated[track_id] = OrderedDict()\n",
    "                \n",
    "            # scale bounding box coordinates and store them\n",
    "            annotated[track_id][frame_id] = [int(float(box.attrib[\"xtl\"])*scaling_factor),\n",
    "                                                int(float(box.attrib[\"ytl\"])*scaling_factor),\n",
    "                                                int(float(box.attrib[\"xbr\"])*scaling_factor),\n",
    "                                                int(float(box.attrib[\"ybr\"])*scaling_factor), keyframe]"
   ]
  },
  {
   "cell_type": "markdown",
   "id": "98dc109e",
   "metadata": {},
   "source": [
    "## Step 3: Create tracks file from CVAT annotations"
   ]
  },
  {
   "cell_type": "code",
   "execution_count": null,
   "id": "a63042c5",
   "metadata": {},
   "outputs": [],
   "source": [
    "# create new XML file for the tracks\n",
    "xml_page = etree.Element(\"annotations\")\n",
    "xml_page.text = \"\\n\"\n",
    "\n",
    "# add version\n",
    "xml_version = etree.SubElement(xml_page, \"version\")\n",
    "xml_version.text = \"1.1\"\n",
    "xml_version.tail = \"\\n\"\n",
    "\n",
    "# iterate over all tracks and store the bounding boxes\n",
    "for track_id in annotated.keys():\n",
    "    xml_track = etree.Element(\"track\", id=str(track_id), label=\"Grevy\", source=\"manual\")\n",
    "    xml_track.text = \"\\n\"\n",
    "    xml_track.tail = \"\\n\"\n",
    "\n",
    "    for frame_id in annotated[track_id].keys():\n",
    "        if frame_id == sorted(annotated[track_id].keys())[-1]:\n",
    "            outside = \"1\"\n",
    "        else:\n",
    "            outside = \"0\"\n",
    "\n",
    "        xml_box = etree.Element(\"box\", frame=str(frame_id), outside=outside, occluded=\"0\",\n",
    "                                keyframe=str(annotated[track_id][frame_id][4]),\n",
    "                                xtl=f\"{annotated[track_id][frame_id][0]:.2f}\",\n",
    "                                ytl=f\"{annotated[track_id][frame_id][1]:.2f}\",\n",
    "                                xbr=f\"{annotated[track_id][frame_id][2]:.2f}\",\n",
    "                                ybr=f\"{annotated[track_id][frame_id][3]:.2f}\", z_order=\"0\")\n",
    "        xml_box.tail = \"\\n\"\n",
    "\n",
    "        xml_track.append(xml_box)\n",
    "\n",
    "    if len(annotated[track_id].keys()) > 0:\n",
    "        xml_page.append(xml_track)\n",
    "\n",
    "\n",
    "# Parse the original XML file\n",
    "original_tree = etree.parse(annotation_path)\n",
    "original_root = original_tree.getroot()\n",
    "\n",
    "# Extract the 'meta' element\n",
    "meta = original_root.find(\"meta\")\n",
    "\n",
    "# Update height & width\n",
    "height = int(meta.find(\"task\").find(\"original_size\").find(\"height\").text) * scaling_factor\n",
    "meta.find(\"task\").find(\"original_size\").find(\"height\").text = str(height)\n",
    "\n",
    "width = int(meta.find(\"task\").find(\"original_size\").find(\"width\").text) * scaling_factor\n",
    "meta.find(\"task\").find(\"original_size\").find(\"width\").text = str(width)\n",
    "\n",
    "# Append 'meta' to the new XML document\n",
    "# Note: 'meta' should be appended before the 'track' elements, manually check this if errors occur\n",
    "track = xml_page.find(\"track\")\n",
    "parent = track.getparent()\n",
    "\n",
    "if parent is not None:\n",
    "    index = parent.index(track)\n",
    "    parent.insert(index, meta)\n",
    "else:\n",
    "    xml_page.append(meta)\n",
    "\n",
    "# Write the new XML document to file\n",
    "etree.indent(xml_page, space='  ', level=0)\n",
    "xml_document = etree.ElementTree(xml_page)\n",
    "xml_document.write(f\"{tracks_location}/tracks_.xml\", xml_declaration=True, pretty_print=True, encoding=\"utf-8\")"
   ]
  },
  {
   "cell_type": "markdown",
   "id": "a41a25df",
   "metadata": {},
   "source": [
    "## Step 4: Create mini-scenes using tracks_extractor\n",
    "\n",
    "Note: if an error occurs, make sure the meta section was added back into the xml correctly."
   ]
  },
  {
   "cell_type": "code",
   "execution_count": null,
   "id": "157201bc",
   "metadata": {},
   "outputs": [],
   "source": [
    "# extract mini-scenes from original video using tracks file\n",
    "os.system(f\"tracks_extractor --video {video_path} --annotation {tracks_location}/tracks_.xml\")"
   ]
  }
 ],
 "metadata": {
  "kernelspec": {
   "display_name": "kabr",
   "language": "python",
   "name": "python3"
  },
  "language_info": {
   "codemirror_mode": {
    "name": "ipython",
    "version": 3
   },
   "file_extension": ".py",
   "mimetype": "text/x-python",
   "name": "python",
   "nbconvert_exporter": "python",
   "pygments_lexer": "ipython3",
   "version": "3.10.14"
  }
 },
 "nbformat": 4,
 "nbformat_minor": 5
}
