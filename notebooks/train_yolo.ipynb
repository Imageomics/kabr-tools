{
 "cells": [
  {
   "cell_type": "code",
   "execution_count": null,
   "id": "95f19cac",
   "metadata": {},
   "outputs": [],
   "source": [
    "from ultralytics import YOLO"
   ]
  },
  {
   "cell_type": "code",
   "execution_count": null,
   "id": "aac69593",
   "metadata": {},
   "outputs": [],
   "source": [
    "model = YOLO(\"yolov8x.pt\")"
   ]
  },
  {
   "cell_type": "code",
   "execution_count": null,
   "id": "f03adf60",
   "metadata": {},
   "outputs": [],
   "source": [
    "imgsz = 1536"
   ]
  },
  {
   "cell_type": "code",
   "execution_count": null,
   "id": "faebb5a8",
   "metadata": {},
   "outputs": [],
   "source": [
    "results = model.train(task=\"detect\", mode=\"train\", model=\"yolov8x.yaml\", data=\"datasets/zebras.yaml\",\n",
    "                      epochs=20, patience=5, batch=1, imgsz=imgsz)"
   ]
  },
  {
   "cell_type": "code",
   "execution_count": null,
   "id": "44a5a85d",
   "metadata": {},
   "outputs": [],
   "source": [
    "model.val(imgsz=imgsz, batch=1, data=\"datasets/zebras.yaml\")"
   ]
  }
 ],
 "metadata": {
  "kernelspec": {
   "display_name": "ml3.8",
   "language": "python",
   "name": "ml3.8"
  },
  "language_info": {
   "codemirror_mode": {
    "name": "ipython",
    "version": 3
   },
   "file_extension": ".py",
   "mimetype": "text/x-python",
   "name": "python",
   "nbconvert_exporter": "python",
   "pygments_lexer": "ipython3",
   "version": "3.8.16"
  }
 },
 "nbformat": 4,
 "nbformat_minor": 5
}
