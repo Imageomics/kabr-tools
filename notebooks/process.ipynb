{
 "cells": [
  {
   "cell_type": "code",
   "execution_count": null,
   "id": "af4a51de",
   "metadata": {},
   "outputs": [],
   "source": [
    "import os\n",
    "import pandas as pd\n",
    "import shutil\n",
    "from sklearn.utils import shuffle\n",
    "from natsort import natsorted\n",
    "from tqdm import tqdm"
   ]
  },
  {
   "cell_type": "code",
   "execution_count": null,
   "id": "e5b9cab0",
   "metadata": {},
   "outputs": [],
   "source": [
    "# Load Plain and Gravy annotations.\n",
    "pg_df = pd.read_csv(\"/mnt/NVME/KABR/annotation/PlainAndGravy.csv\", sep=\",\", header=None).drop([2], axis=1)"
   ]
  },
  {
   "cell_type": "code",
   "execution_count": null,
   "id": "5d494fe2",
   "metadata": {},
   "outputs": [],
   "source": [
    "# Create mapping. For example, Z0001 -> ZG0001.\n",
    "mapping = {}\n",
    "\n",
    "for index, row in pg_df.iterrows():\n",
    "    mapping[row[0]] = \"Z\" + row[1] + row[0].split(\"Z\")[1]"
   ]
  },
  {
   "cell_type": "code",
   "execution_count": null,
   "id": "bae44d23",
   "metadata": {},
   "outputs": [],
   "source": [
    "# Rename folders according to the mapping.\n",
    "\n",
    "# path = \"/mnt/NVME/KABR/dataset/image\"\n",
    "# i = 0\n",
    "\n",
    "# for file in os.listdir(path):\n",
    "#     if mapping.get(file) is not None:\n",
    "#         print(path + os.sep + file, \" -> \", path + os.sep + mapping[file])\n",
    "#         shutil.move(path + os.sep + file, path + os.sep + mapping[file])\n",
    "#         i += 1\n",
    "\n",
    "# print(i)"
   ]
  },
  {
   "cell_type": "code",
   "execution_count": null,
   "id": "54dfe39b",
   "metadata": {},
   "outputs": [],
   "source": [
    "# Rename videos according to the mapping.\n",
    "\n",
    "# path = \"/mnt/NVME/KABR/dataset/video\"\n",
    "\n",
    "# for file in os.listdir(path):\n",
    "#     if file[-4] != \".\":\n",
    "#         shutil.move(path + os.sep + file, path + os.sep + file + \".mp4\")"
   ]
  },
  {
   "cell_type": "code",
   "execution_count": null,
   "id": "1475895e",
   "metadata": {},
   "outputs": [],
   "source": [
    "df = pd.read_csv(\"/mnt/NVME/KABR/annotation/data.csv\", sep=\" \")"
   ]
  },
  {
   "cell_type": "code",
   "execution_count": 108,
   "id": "713d00d0",
   "metadata": {},
   "outputs": [
    {
     "data": {
      "text/html": [
       "<div>\n",
       "<style scoped>\n",
       "    .dataframe tbody tr th:only-of-type {\n",
       "        vertical-align: middle;\n",
       "    }\n",
       "\n",
       "    .dataframe tbody tr th {\n",
       "        vertical-align: top;\n",
       "    }\n",
       "\n",
       "    .dataframe thead th {\n",
       "        text-align: right;\n",
       "    }\n",
       "</style>\n",
       "<table border=\"1\" class=\"dataframe\">\n",
       "  <thead>\n",
       "    <tr style=\"text-align: right;\">\n",
       "      <th></th>\n",
       "      <th>original_vido_id</th>\n",
       "      <th>video_id</th>\n",
       "      <th>frame_id</th>\n",
       "      <th>path</th>\n",
       "      <th>labels</th>\n",
       "    </tr>\n",
       "  </thead>\n",
       "  <tbody>\n",
       "    <tr>\n",
       "      <th>0</th>\n",
       "      <td>Z0001</td>\n",
       "      <td>1</td>\n",
       "      <td>1</td>\n",
       "      <td>Z0001/1.jpg</td>\n",
       "      <td>0</td>\n",
       "    </tr>\n",
       "    <tr>\n",
       "      <th>1</th>\n",
       "      <td>Z0001</td>\n",
       "      <td>1</td>\n",
       "      <td>2</td>\n",
       "      <td>Z0001/2.jpg</td>\n",
       "      <td>0</td>\n",
       "    </tr>\n",
       "    <tr>\n",
       "      <th>2</th>\n",
       "      <td>Z0001</td>\n",
       "      <td>1</td>\n",
       "      <td>3</td>\n",
       "      <td>Z0001/3.jpg</td>\n",
       "      <td>0</td>\n",
       "    </tr>\n",
       "    <tr>\n",
       "      <th>3</th>\n",
       "      <td>Z0001</td>\n",
       "      <td>1</td>\n",
       "      <td>4</td>\n",
       "      <td>Z0001/4.jpg</td>\n",
       "      <td>0</td>\n",
       "    </tr>\n",
       "    <tr>\n",
       "      <th>4</th>\n",
       "      <td>Z0001</td>\n",
       "      <td>1</td>\n",
       "      <td>5</td>\n",
       "      <td>Z0001/5.jpg</td>\n",
       "      <td>0</td>\n",
       "    </tr>\n",
       "    <tr>\n",
       "      <th>...</th>\n",
       "      <td>...</td>\n",
       "      <td>...</td>\n",
       "      <td>...</td>\n",
       "      <td>...</td>\n",
       "      <td>...</td>\n",
       "    </tr>\n",
       "    <tr>\n",
       "      <th>1139888</th>\n",
       "      <td>Z0742</td>\n",
       "      <td>742</td>\n",
       "      <td>1467</td>\n",
       "      <td>Z0742/1467.jpg</td>\n",
       "      <td>1</td>\n",
       "    </tr>\n",
       "    <tr>\n",
       "      <th>1139889</th>\n",
       "      <td>Z0742</td>\n",
       "      <td>742</td>\n",
       "      <td>1468</td>\n",
       "      <td>Z0742/1468.jpg</td>\n",
       "      <td>1</td>\n",
       "    </tr>\n",
       "    <tr>\n",
       "      <th>1139890</th>\n",
       "      <td>Z0742</td>\n",
       "      <td>742</td>\n",
       "      <td>1469</td>\n",
       "      <td>Z0742/1469.jpg</td>\n",
       "      <td>1</td>\n",
       "    </tr>\n",
       "    <tr>\n",
       "      <th>1139891</th>\n",
       "      <td>Z0742</td>\n",
       "      <td>742</td>\n",
       "      <td>1470</td>\n",
       "      <td>Z0742/1470.jpg</td>\n",
       "      <td>1</td>\n",
       "    </tr>\n",
       "    <tr>\n",
       "      <th>1139892</th>\n",
       "      <td>Z0742</td>\n",
       "      <td>742</td>\n",
       "      <td>1471</td>\n",
       "      <td>Z0742/1471.jpg</td>\n",
       "      <td>1</td>\n",
       "    </tr>\n",
       "  </tbody>\n",
       "</table>\n",
       "<p>1139893 rows × 5 columns</p>\n",
       "</div>"
      ],
      "text/plain": [
       "        original_vido_id  video_id  frame_id            path  labels\n",
       "0                  Z0001         1         1     Z0001/1.jpg       0\n",
       "1                  Z0001         1         2     Z0001/2.jpg       0\n",
       "2                  Z0001         1         3     Z0001/3.jpg       0\n",
       "3                  Z0001         1         4     Z0001/4.jpg       0\n",
       "4                  Z0001         1         5     Z0001/5.jpg       0\n",
       "...                  ...       ...       ...             ...     ...\n",
       "1139888            Z0742       742      1467  Z0742/1467.jpg       1\n",
       "1139889            Z0742       742      1468  Z0742/1468.jpg       1\n",
       "1139890            Z0742       742      1469  Z0742/1469.jpg       1\n",
       "1139891            Z0742       742      1470  Z0742/1470.jpg       1\n",
       "1139892            Z0742       742      1471  Z0742/1471.jpg       1\n",
       "\n",
       "[1139893 rows x 5 columns]"
      ]
     },
     "execution_count": 108,
     "metadata": {},
     "output_type": "execute_result"
    }
   ],
   "source": [
    "df"
   ]
  },
  {
   "cell_type": "code",
   "execution_count": null,
   "id": "fd1a88ac",
   "metadata": {},
   "outputs": [],
   "source": [
    "# Rename rows in the annotation file.\n",
    "\n",
    "# for index, row in df.iterrows():\n",
    "#     if mapping.get(row[\"original_vido_id\"]) is not None:\n",
    "#         df.at[index,\"original_vido_id\"] = mapping[row[\"original_vido_id\"]]\n",
    "\n",
    "# for index, row in df.iterrows():\n",
    "#     value, ext = row[\"path\"].split(\"/\")\n",
    "\n",
    "#     if mapping.get(value) is not None:\n",
    "#         df.at[index,\"path\"] = mapping[value] + \"/\" + ext"
   ]
  },
  {
   "cell_type": "code",
   "execution_count": 111,
   "id": "3de11675",
   "metadata": {},
   "outputs": [
    {
     "data": {
      "text/html": [
       "<div>\n",
       "<style scoped>\n",
       "    .dataframe tbody tr th:only-of-type {\n",
       "        vertical-align: middle;\n",
       "    }\n",
       "\n",
       "    .dataframe tbody tr th {\n",
       "        vertical-align: top;\n",
       "    }\n",
       "\n",
       "    .dataframe thead th {\n",
       "        text-align: right;\n",
       "    }\n",
       "</style>\n",
       "<table border=\"1\" class=\"dataframe\">\n",
       "  <thead>\n",
       "    <tr style=\"text-align: right;\">\n",
       "      <th></th>\n",
       "      <th>original_vido_id</th>\n",
       "      <th>video_id</th>\n",
       "      <th>frame_id</th>\n",
       "      <th>path</th>\n",
       "      <th>labels</th>\n",
       "    </tr>\n",
       "  </thead>\n",
       "  <tbody>\n",
       "    <tr>\n",
       "      <th>0</th>\n",
       "      <td>ZG0001</td>\n",
       "      <td>1</td>\n",
       "      <td>1</td>\n",
       "      <td>ZG0001/1.jpg</td>\n",
       "      <td>0</td>\n",
       "    </tr>\n",
       "    <tr>\n",
       "      <th>1</th>\n",
       "      <td>ZG0001</td>\n",
       "      <td>1</td>\n",
       "      <td>2</td>\n",
       "      <td>ZG0001/2.jpg</td>\n",
       "      <td>0</td>\n",
       "    </tr>\n",
       "    <tr>\n",
       "      <th>2</th>\n",
       "      <td>ZG0001</td>\n",
       "      <td>1</td>\n",
       "      <td>3</td>\n",
       "      <td>ZG0001/3.jpg</td>\n",
       "      <td>0</td>\n",
       "    </tr>\n",
       "    <tr>\n",
       "      <th>3</th>\n",
       "      <td>ZG0001</td>\n",
       "      <td>1</td>\n",
       "      <td>4</td>\n",
       "      <td>ZG0001/4.jpg</td>\n",
       "      <td>0</td>\n",
       "    </tr>\n",
       "    <tr>\n",
       "      <th>4</th>\n",
       "      <td>ZG0001</td>\n",
       "      <td>1</td>\n",
       "      <td>5</td>\n",
       "      <td>ZG0001/5.jpg</td>\n",
       "      <td>0</td>\n",
       "    </tr>\n",
       "    <tr>\n",
       "      <th>...</th>\n",
       "      <td>...</td>\n",
       "      <td>...</td>\n",
       "      <td>...</td>\n",
       "      <td>...</td>\n",
       "      <td>...</td>\n",
       "    </tr>\n",
       "    <tr>\n",
       "      <th>1139888</th>\n",
       "      <td>ZG0742</td>\n",
       "      <td>742</td>\n",
       "      <td>1467</td>\n",
       "      <td>ZG0742/1467.jpg</td>\n",
       "      <td>1</td>\n",
       "    </tr>\n",
       "    <tr>\n",
       "      <th>1139889</th>\n",
       "      <td>ZG0742</td>\n",
       "      <td>742</td>\n",
       "      <td>1468</td>\n",
       "      <td>ZG0742/1468.jpg</td>\n",
       "      <td>1</td>\n",
       "    </tr>\n",
       "    <tr>\n",
       "      <th>1139890</th>\n",
       "      <td>ZG0742</td>\n",
       "      <td>742</td>\n",
       "      <td>1469</td>\n",
       "      <td>ZG0742/1469.jpg</td>\n",
       "      <td>1</td>\n",
       "    </tr>\n",
       "    <tr>\n",
       "      <th>1139891</th>\n",
       "      <td>ZG0742</td>\n",
       "      <td>742</td>\n",
       "      <td>1470</td>\n",
       "      <td>ZG0742/1470.jpg</td>\n",
       "      <td>1</td>\n",
       "    </tr>\n",
       "    <tr>\n",
       "      <th>1139892</th>\n",
       "      <td>ZG0742</td>\n",
       "      <td>742</td>\n",
       "      <td>1471</td>\n",
       "      <td>ZG0742/1471.jpg</td>\n",
       "      <td>1</td>\n",
       "    </tr>\n",
       "  </tbody>\n",
       "</table>\n",
       "<p>1139893 rows × 5 columns</p>\n",
       "</div>"
      ],
      "text/plain": [
       "        original_vido_id  video_id  frame_id             path  labels\n",
       "0                 ZG0001         1         1     ZG0001/1.jpg       0\n",
       "1                 ZG0001         1         2     ZG0001/2.jpg       0\n",
       "2                 ZG0001         1         3     ZG0001/3.jpg       0\n",
       "3                 ZG0001         1         4     ZG0001/4.jpg       0\n",
       "4                 ZG0001         1         5     ZG0001/5.jpg       0\n",
       "...                  ...       ...       ...              ...     ...\n",
       "1139888           ZG0742       742      1467  ZG0742/1467.jpg       1\n",
       "1139889           ZG0742       742      1468  ZG0742/1468.jpg       1\n",
       "1139890           ZG0742       742      1469  ZG0742/1469.jpg       1\n",
       "1139891           ZG0742       742      1470  ZG0742/1470.jpg       1\n",
       "1139892           ZG0742       742      1471  ZG0742/1471.jpg       1\n",
       "\n",
       "[1139893 rows x 5 columns]"
      ]
     },
     "execution_count": 111,
     "metadata": {},
     "output_type": "execute_result"
    }
   ],
   "source": [
    "df"
   ]
  },
  {
   "cell_type": "code",
   "execution_count": 112,
   "id": "38febaa2",
   "metadata": {},
   "outputs": [],
   "source": [
    "df.to_csv(f\"data.csv\", sep=\" \", index=False)"
   ]
  },
  {
   "cell_type": "code",
   "execution_count": 248,
   "id": "6ff97a97",
   "metadata": {},
   "outputs": [],
   "source": [
    "df = pd.read_csv(\"/mnt/NVME/KABR/annotation/data.csv\", sep=\" \")"
   ]
  },
  {
   "cell_type": "code",
   "execution_count": 250,
   "id": "d9a2bd24",
   "metadata": {},
   "outputs": [],
   "source": [
    "df[[\"labels\"]] = df[[\"labels\"]].replace(0, \"Walk\")\n",
    "df[[\"labels\"]] = df[[\"labels\"]].replace(1, \"Graze\")\n",
    "df[[\"labels\"]] = df[[\"labels\"]].replace(2, \"Browse\")\n",
    "df[[\"labels\"]] = df[[\"labels\"]].replace(3, \"Head Up\")\n",
    "df[[\"labels\"]] = df[[\"labels\"]].replace(4, \"Auto-Groom\")\n",
    "df[[\"labels\"]] = df[[\"labels\"]].replace(5, \"Trot\")\n",
    "df[[\"labels\"]] = df[[\"labels\"]].replace(6, \"Run\")\n",
    "df[[\"labels\"]] = df[[\"labels\"]].replace(7, \"Occluded\")"
   ]
  },
  {
   "cell_type": "code",
   "execution_count": 264,
   "id": "72be5af3",
   "metadata": {},
   "outputs": [
    {
     "data": {
      "image/png": "[encoded data removed]",
      "text/plain": [
       "<Figure size 640x480 with 1 Axes>"
      ]
     },
     "metadata": {},
     "output_type": "display_data"
    }
   ],
   "source": [
    "count = pd.Series(df[\"labels\"].value_counts())\n",
    "count_pie = count.plot.pie(autopct=\"%1.1f%%\", ylabel=\"\", textprops={\"fontsize\": 6.5})"
   ]
  },
  {
   "cell_type": "code",
   "execution_count": 265,
   "id": "a0de1719",
   "metadata": {},
   "outputs": [
    {
     "data": {
      "text/plain": [
       "Graze         375103\n",
       "Walk          374640\n",
       "Head Up       304037\n",
       "Browse         30374\n",
       "Occluded       18603\n",
       "Run            18273\n",
       "Trot           13307\n",
       "Auto-Groom      5556\n",
       "Name: labels, dtype: int64"
      ]
     },
     "execution_count": 265,
     "metadata": {},
     "output_type": "execute_result"
    }
   ],
   "source": [
    "df[\"labels\"].value_counts()"
   ]
  },
  {
   "cell_type": "code",
   "execution_count": 60,
   "id": "9475d6df",
   "metadata": {},
   "outputs": [],
   "source": [
    "df3 = df.groupby([\"original_vido_id\"]).count()"
   ]
  },
  {
   "cell_type": "code",
   "execution_count": 61,
   "id": "f09a3149",
   "metadata": {},
   "outputs": [
    {
     "data": {
      "text/html": [
       "<div>\n",
       "<style scoped>\n",
       "    .dataframe tbody tr th:only-of-type {\n",
       "        vertical-align: middle;\n",
       "    }\n",
       "\n",
       "    .dataframe tbody tr th {\n",
       "        vertical-align: top;\n",
       "    }\n",
       "\n",
       "    .dataframe thead th {\n",
       "        text-align: right;\n",
       "    }\n",
       "</style>\n",
       "<table border=\"1\" class=\"dataframe\">\n",
       "  <thead>\n",
       "    <tr style=\"text-align: right;\">\n",
       "      <th></th>\n",
       "      <th>video_id</th>\n",
       "      <th>frame_id</th>\n",
       "      <th>path</th>\n",
       "      <th>labels</th>\n",
       "    </tr>\n",
       "    <tr>\n",
       "      <th>original_vido_id</th>\n",
       "      <th></th>\n",
       "      <th></th>\n",
       "      <th></th>\n",
       "      <th></th>\n",
       "    </tr>\n",
       "  </thead>\n",
       "  <tbody>\n",
       "    <tr>\n",
       "      <th>G0067</th>\n",
       "      <td>2091</td>\n",
       "      <td>2091</td>\n",
       "      <td>2091</td>\n",
       "      <td>2091</td>\n",
       "    </tr>\n",
       "    <tr>\n",
       "      <th>G0068</th>\n",
       "      <td>8119</td>\n",
       "      <td>8119</td>\n",
       "      <td>8119</td>\n",
       "      <td>8119</td>\n",
       "    </tr>\n",
       "    <tr>\n",
       "      <th>G0069</th>\n",
       "      <td>8132</td>\n",
       "      <td>8132</td>\n",
       "      <td>8132</td>\n",
       "      <td>8132</td>\n",
       "    </tr>\n",
       "    <tr>\n",
       "      <th>G0070</th>\n",
       "      <td>109</td>\n",
       "      <td>109</td>\n",
       "      <td>109</td>\n",
       "      <td>109</td>\n",
       "    </tr>\n",
       "    <tr>\n",
       "      <th>G0071</th>\n",
       "      <td>412</td>\n",
       "      <td>412</td>\n",
       "      <td>412</td>\n",
       "      <td>412</td>\n",
       "    </tr>\n",
       "    <tr>\n",
       "      <th>...</th>\n",
       "      <td>...</td>\n",
       "      <td>...</td>\n",
       "      <td>...</td>\n",
       "      <td>...</td>\n",
       "    </tr>\n",
       "    <tr>\n",
       "      <th>ZP0633</th>\n",
       "      <td>4474</td>\n",
       "      <td>4474</td>\n",
       "      <td>4474</td>\n",
       "      <td>4474</td>\n",
       "    </tr>\n",
       "    <tr>\n",
       "      <th>ZP0634</th>\n",
       "      <td>4474</td>\n",
       "      <td>4474</td>\n",
       "      <td>4474</td>\n",
       "      <td>4474</td>\n",
       "    </tr>\n",
       "    <tr>\n",
       "      <th>ZP0635</th>\n",
       "      <td>164</td>\n",
       "      <td>164</td>\n",
       "      <td>164</td>\n",
       "      <td>164</td>\n",
       "    </tr>\n",
       "    <tr>\n",
       "      <th>ZP0636</th>\n",
       "      <td>4474</td>\n",
       "      <td>4474</td>\n",
       "      <td>4474</td>\n",
       "      <td>4474</td>\n",
       "    </tr>\n",
       "    <tr>\n",
       "      <th>ZP0637</th>\n",
       "      <td>4243</td>\n",
       "      <td>4243</td>\n",
       "      <td>4243</td>\n",
       "      <td>4243</td>\n",
       "    </tr>\n",
       "  </tbody>\n",
       "</table>\n",
       "<p>742 rows × 4 columns</p>\n",
       "</div>"
      ],
      "text/plain": [
       "                  video_id  frame_id  path  labels\n",
       "original_vido_id                                  \n",
       "G0067                 2091      2091  2091    2091\n",
       "G0068                 8119      8119  8119    8119\n",
       "G0069                 8132      8132  8132    8132\n",
       "G0070                  109       109   109     109\n",
       "G0071                  412       412   412     412\n",
       "...                    ...       ...   ...     ...\n",
       "ZP0633                4474      4474  4474    4474\n",
       "ZP0634                4474      4474  4474    4474\n",
       "ZP0635                 164       164   164     164\n",
       "ZP0636                4474      4474  4474    4474\n",
       "ZP0637                4243      4243  4243    4243\n",
       "\n",
       "[742 rows x 4 columns]"
      ]
     },
     "execution_count": 61,
     "metadata": {},
     "output_type": "execute_result"
    }
   ],
   "source": [
    "df3"
   ]
  },
  {
   "cell_type": "code",
   "execution_count": 269,
   "id": "481d2061",
   "metadata": {},
   "outputs": [
    {
     "name": "stdout",
     "output_type": "stream",
     "text": [
      "['G0068', 'G0078', 'G0080', 'G0082', 'G0093', 'G0100', 'G0103', 'G0104', 'G0106', 'G0109', 'G0117', 'G0118', 'G0119', 'G0121', 'G0143', 'G0145', 'G0150', 'G0154', 'G0163', 'G0374']\n",
      "40138\n"
     ]
    }
   ],
   "source": [
    "index = shuffle(df3.loc[df3.index.str.startswith(\"G\", na=False)].index)\n",
    "a = list(index[:int(len(index) * 0.25)])\n",
    "print(natsorted(a))\n",
    "counter = 0\n",
    "\n",
    "for index, row in df.groupby([\"original_vido_id\"]).count().iterrows():\n",
    "    if row.name in a:\n",
    "        counter += row[\"video_id\"]\n",
    "\n",
    "print(counter)"
   ]
  },
  {
   "cell_type": "code",
   "execution_count": 165,
   "id": "89c6501f",
   "metadata": {},
   "outputs": [
    {
     "name": "stdout",
     "output_type": "stream",
     "text": [
      "['ZG0009', 'ZG0011', 'ZG0014', 'ZG0020', 'ZG0022', 'ZG0024', 'ZG0025', 'ZG0026', 'ZG0028', 'ZG0041', 'ZG0051', 'ZG0055', 'ZG0056', 'ZG0127', 'ZG0130', 'ZG0134', 'ZG0202', 'ZG0208', 'ZG0209', 'ZG0210', 'ZG0211', 'ZG0212', 'ZG0217', 'ZG0219', 'ZG0222', 'ZG0298', 'ZG0307', 'ZG0308', 'ZG0316', 'ZG0335', 'ZG0341', 'ZG0356', 'ZG0396', 'ZG0403', 'ZG0416', 'ZG0648', 'ZG0653', 'ZG0654', 'ZG0656', 'ZG0657', 'ZG0666', 'ZG0668', 'ZG0670', 'ZG0671', 'ZG0684', 'ZG0685', 'ZG0694', 'ZG0700', 'ZG0701', 'ZG0714', 'ZG0716', 'ZG0717', 'ZG0720', 'ZG0723', 'ZG0727', 'ZG0730', 'ZG0731', 'ZG0733', 'ZG0737', 'ZG0741', 'ZG0742']\n",
      "129496\n"
     ]
    }
   ],
   "source": [
    "index = shuffle(df3.loc[df3.index.str.startswith(\"ZG\", na=False)].index)\n",
    "a = list(index[:int(len(index) * 0.25)])\n",
    "print(natsorted(a))\n",
    "counter = 0\n",
    "\n",
    "for index, row in df.groupby([\"original_vido_id\"]).count().iterrows():\n",
    "    if row.name in a:\n",
    "        counter += row[\"video_id\"]\n",
    "\n",
    "print(counter)"
   ]
  },
  {
   "cell_type": "code",
   "execution_count": 179,
   "id": "79dbf9ea",
   "metadata": {},
   "outputs": [
    {
     "name": "stdout",
     "output_type": "stream",
     "text": [
      "['ZP0034', 'ZP0037', 'ZP0042', 'ZP0049', 'ZP0053', 'ZP0054', 'ZP0091', 'ZP0164', 'ZP0170', 'ZP0172', 'ZP0173', 'ZP0180', 'ZP0181', 'ZP0190', 'ZP0191', 'ZP0192', 'ZP0193', 'ZP0198', 'ZP0201', 'ZP0228', 'ZP0243', 'ZP0245', 'ZP0246', 'ZP0248', 'ZP0250', 'ZP0256', 'ZP0259', 'ZP0267', 'ZP0268', 'ZP0283', 'ZP0304', 'ZP0305', 'ZP0321', 'ZP0324', 'ZP0325', 'ZP0327', 'ZP0330', 'ZP0342', 'ZP0343', 'ZP0344', 'ZP0346', 'ZP0350', 'ZP0360', 'ZP0367', 'ZP0375', 'ZP0385', 'ZP0391', 'ZP0408', 'ZP0413', 'ZP0420', 'ZP0425', 'ZP0427', 'ZP0428', 'ZP0429', 'ZP0434', 'ZP0437', 'ZP0439', 'ZP0440', 'ZP0446', 'ZP0447', 'ZP0449', 'ZP0450', 'ZP0451', 'ZP0454', 'ZP0461', 'ZP0463', 'ZP0464', 'ZP0469', 'ZP0473', 'ZP0481', 'ZP0484', 'ZP0485', 'ZP0491', 'ZP0494', 'ZP0499', 'ZP0507', 'ZP0510', 'ZP0513', 'ZP0514', 'ZP0521', 'ZP0522', 'ZP0525', 'ZP0540', 'ZP0544', 'ZP0546', 'ZP0555', 'ZP0558', 'ZP0559', 'ZP0567', 'ZP0573', 'ZP0575', 'ZP0580', 'ZP0583', 'ZP0585', 'ZP0593', 'ZP0594', 'ZP0604', 'ZP0607', 'ZP0610', 'ZP0613', 'ZP0617', 'ZP0618', 'ZP0624']\n",
      "120387\n"
     ]
    }
   ],
   "source": [
    "index = shuffle(df3.loc[df3.index.str.startswith(\"ZP\", na=False)].index)\n",
    "a = list(index[:int(len(index) * 0.25)])\n",
    "print(natsorted(a))\n",
    "counter = 0\n",
    "\n",
    "for index, row in df.groupby([\"original_vido_id\"]).count().iterrows():\n",
    "    if row.name in a:\n",
    "        counter += row[\"video_id\"]\n",
    "\n",
    "print(counter)"
   ]
  },
  {
   "cell_type": "code",
   "execution_count": 10,
   "id": "69a1ce82",
   "metadata": {},
   "outputs": [],
   "source": [
    "df2 = df.copy()\n",
    "\n",
    "\n",
    "for index, row in df2.iterrows():\n",
    "    if row[\"original_vido_id\"].startswith(\"G\"):\n",
    "        df2.at[index,\"original_vido_id\"] = \"G\"\n",
    "    elif row[\"original_vido_id\"].startswith(\"ZG\"):\n",
    "        df2.at[index,\"original_vido_id\"] = \"ZG\"\n",
    "    elif row[\"original_vido_id\"].startswith(\"ZP\"):\n",
    "        df2.at[index,\"original_vido_id\"] = \"ZP\""
   ]
  },
  {
   "cell_type": "code",
   "execution_count": 11,
   "id": "cad30809",
   "metadata": {},
   "outputs": [
    {
     "data": {
      "text/html": [
       "<div>\n",
       "<style scoped>\n",
       "    .dataframe tbody tr th:only-of-type {\n",
       "        vertical-align: middle;\n",
       "    }\n",
       "\n",
       "    .dataframe tbody tr th {\n",
       "        vertical-align: top;\n",
       "    }\n",
       "\n",
       "    .dataframe thead th {\n",
       "        text-align: right;\n",
       "    }\n",
       "</style>\n",
       "<table border=\"1\" class=\"dataframe\">\n",
       "  <thead>\n",
       "    <tr style=\"text-align: right;\">\n",
       "      <th></th>\n",
       "      <th>video_id</th>\n",
       "      <th>frame_id</th>\n",
       "      <th>path</th>\n",
       "      <th>labels</th>\n",
       "    </tr>\n",
       "    <tr>\n",
       "      <th>original_vido_id</th>\n",
       "      <th></th>\n",
       "      <th></th>\n",
       "      <th></th>\n",
       "      <th></th>\n",
       "    </tr>\n",
       "  </thead>\n",
       "  <tbody>\n",
       "    <tr>\n",
       "      <th>G</th>\n",
       "      <td>158748</td>\n",
       "      <td>158748</td>\n",
       "      <td>158748</td>\n",
       "      <td>158748</td>\n",
       "    </tr>\n",
       "    <tr>\n",
       "      <th>ZG</th>\n",
       "      <td>488638</td>\n",
       "      <td>488638</td>\n",
       "      <td>488638</td>\n",
       "      <td>488638</td>\n",
       "    </tr>\n",
       "    <tr>\n",
       "      <th>ZP</th>\n",
       "      <td>492507</td>\n",
       "      <td>492507</td>\n",
       "      <td>492507</td>\n",
       "      <td>492507</td>\n",
       "    </tr>\n",
       "  </tbody>\n",
       "</table>\n",
       "</div>"
      ],
      "text/plain": [
       "                  video_id  frame_id    path  labels\n",
       "original_vido_id                                    \n",
       "G                   158748    158748  158748  158748\n",
       "ZG                  488638    488638  488638  488638\n",
       "ZP                  492507    492507  492507  492507"
      ]
     },
     "execution_count": 11,
     "metadata": {},
     "output_type": "execute_result"
    }
   ],
   "source": [
    "df2.groupby([\"original_vido_id\"]).count()"
   ]
  },
  {
   "cell_type": "code",
   "execution_count": 79,
   "id": "dfac5bc0",
   "metadata": {},
   "outputs": [
    {
     "data": {
      "text/plain": [
       "39687"
      ]
     },
     "execution_count": 79,
     "metadata": {},
     "output_type": "execute_result"
    }
   ],
   "source": [
    "int(158748 * 0.25)"
   ]
  },
  {
   "cell_type": "code",
   "execution_count": 80,
   "id": "6d498012",
   "metadata": {},
   "outputs": [
    {
     "data": {
      "text/plain": [
       "122159"
      ]
     },
     "execution_count": 80,
     "metadata": {},
     "output_type": "execute_result"
    }
   ],
   "source": [
    "int(488638 * 0.25)"
   ]
  },
  {
   "cell_type": "code",
   "execution_count": 81,
   "id": "3123d733",
   "metadata": {},
   "outputs": [
    {
     "data": {
      "text/plain": [
       "123126"
      ]
     },
     "execution_count": 81,
     "metadata": {},
     "output_type": "execute_result"
    }
   ],
   "source": [
    "int(492507 * 0.25)"
   ]
  },
  {
   "cell_type": "code",
   "execution_count": 187,
   "id": "34193f00",
   "metadata": {},
   "outputs": [
    {
     "data": {
      "text/plain": [
       "290021"
      ]
     },
     "execution_count": 187,
     "metadata": {},
     "output_type": "execute_result"
    }
   ],
   "source": [
    "# Total number of frames for test.\n",
    "40138 + 129496 + 120387"
   ]
  },
  {
   "cell_type": "code",
   "execution_count": 188,
   "id": "3548769f",
   "metadata": {},
   "outputs": [
    {
     "data": {
      "text/plain": [
       "1139893"
      ]
     },
     "execution_count": 188,
     "metadata": {},
     "output_type": "execute_result"
    }
   ],
   "source": [
    "# Total number of frames.\n",
    "158748 + 488638 + 492507"
   ]
  },
  {
   "cell_type": "code",
   "execution_count": 226,
   "id": "58d24f57",
   "metadata": {},
   "outputs": [
    {
     "data": {
      "text/plain": [
       "0.25442892058384375"
      ]
     },
     "execution_count": 226,
     "metadata": {},
     "output_type": "execute_result"
    }
   ],
   "source": [
    "# Test % in relation to total.\n",
    "290022 / 1139894"
   ]
  },
  {
   "cell_type": "code",
   "execution_count": 274,
   "id": "f2cc9c27",
   "metadata": {},
   "outputs": [],
   "source": [
    "test_1 = ['G0068', 'G0078', 'G0080', 'G0082', 'G0093', 'G0100', 'G0103', 'G0104', 'G0106', 'G0109', 'G0117', 'G0118', 'G0119', 'G0121', 'G0143', 'G0145', 'G0150', 'G0154', 'G0163', 'G0374']\n",
    "\n",
    "test_2 = ['ZG0009', 'ZG0011', 'ZG0014', 'ZG0020', 'ZG0022', 'ZG0024', 'ZG0025', 'ZG0026', 'ZG0028', 'ZG0041', 'ZG0051', 'ZG0055', 'ZG0056', 'ZG0127', 'ZG0130', 'ZG0134', 'ZG0202', 'ZG0208', 'ZG0209', 'ZG0210', 'ZG0211', 'ZG0212', 'ZG0217', 'ZG0219', 'ZG0222', 'ZG0298', 'ZG0307', 'ZG0308', 'ZG0316', 'ZG0335', 'ZG0341', 'ZG0356', 'ZG0396', 'ZG0403', 'ZG0416', 'ZG0648', 'ZG0653', 'ZG0654', 'ZG0656', 'ZG0657', 'ZG0666', 'ZG0668', 'ZG0670', 'ZG0671', 'ZG0684', 'ZG0685', 'ZG0694', 'ZG0700', 'ZG0701', 'ZG0714', 'ZG0716', 'ZG0717', 'ZG0720', 'ZG0723', 'ZG0727', 'ZG0730', 'ZG0731', 'ZG0733', 'ZG0737', 'ZG0741', 'ZG0742']\n",
    "\n",
    "test_3 = ['ZP0034', 'ZP0037', 'ZP0042', 'ZP0049', 'ZP0053', 'ZP0054', 'ZP0091', 'ZP0164', 'ZP0170', 'ZP0172', 'ZP0173', 'ZP0180', 'ZP0181', 'ZP0190', 'ZP0191', 'ZP0192', 'ZP0193', 'ZP0198', 'ZP0201', 'ZP0228', 'ZP0243', 'ZP0245', 'ZP0246', 'ZP0248', 'ZP0250', 'ZP0256', 'ZP0259', 'ZP0267', 'ZP0268', 'ZP0283', 'ZP0304', 'ZP0305', 'ZP0321', 'ZP0324', 'ZP0325', 'ZP0327', 'ZP0330', 'ZP0342', 'ZP0343', 'ZP0344', 'ZP0346', 'ZP0350', 'ZP0360', 'ZP0367', 'ZP0375', 'ZP0385', 'ZP0391', 'ZP0408', 'ZP0413', 'ZP0420', 'ZP0425', 'ZP0427', 'ZP0428', 'ZP0429', 'ZP0434', 'ZP0437', 'ZP0439', 'ZP0440', 'ZP0446', 'ZP0447', 'ZP0449', 'ZP0450', 'ZP0451', 'ZP0454', 'ZP0461', 'ZP0463', 'ZP0464', 'ZP0469', 'ZP0473', 'ZP0481', 'ZP0484', 'ZP0485', 'ZP0491', 'ZP0494', 'ZP0499', 'ZP0507', 'ZP0510', 'ZP0513', 'ZP0514', 'ZP0521', 'ZP0522', 'ZP0525', 'ZP0540', 'ZP0544', 'ZP0546', 'ZP0555', 'ZP0558', 'ZP0559', 'ZP0567', 'ZP0573', 'ZP0575', 'ZP0580', 'ZP0583', 'ZP0585', 'ZP0593', 'ZP0594', 'ZP0604', 'ZP0607', 'ZP0610', 'ZP0613', 'ZP0617', 'ZP0618', 'ZP0624']\n",
    "\n",
    "test = natsorted(test_1 + test_2 + test_3)"
   ]
  },
  {
   "cell_type": "code",
   "execution_count": 275,
   "id": "695110a2",
   "metadata": {},
   "outputs": [
    {
     "data": {
      "text/plain": [
       "['G0068',\n",
       " 'G0078',\n",
       " 'G0080',\n",
       " 'G0082',\n",
       " 'G0093',\n",
       " 'G0100',\n",
       " 'G0103',\n",
       " 'G0104',\n",
       " 'G0106',\n",
       " 'G0109',\n",
       " 'G0117',\n",
       " 'G0118',\n",
       " 'G0119',\n",
       " 'G0121',\n",
       " 'G0143',\n",
       " 'G0145',\n",
       " 'G0150',\n",
       " 'G0154',\n",
       " 'G0163',\n",
       " 'G0374',\n",
       " 'ZG0009',\n",
       " 'ZG0011',\n",
       " 'ZG0014',\n",
       " 'ZG0020',\n",
       " 'ZG0022',\n",
       " 'ZG0024',\n",
       " 'ZG0025',\n",
       " 'ZG0026',\n",
       " 'ZG0028',\n",
       " 'ZG0041',\n",
       " 'ZG0051',\n",
       " 'ZG0055',\n",
       " 'ZG0056',\n",
       " 'ZG0127',\n",
       " 'ZG0130',\n",
       " 'ZG0134',\n",
       " 'ZG0202',\n",
       " 'ZG0208',\n",
       " 'ZG0209',\n",
       " 'ZG0210',\n",
       " 'ZG0211',\n",
       " 'ZG0212',\n",
       " 'ZG0217',\n",
       " 'ZG0219',\n",
       " 'ZG0222',\n",
       " 'ZG0298',\n",
       " 'ZG0307',\n",
       " 'ZG0308',\n",
       " 'ZG0316',\n",
       " 'ZG0335',\n",
       " 'ZG0341',\n",
       " 'ZG0356',\n",
       " 'ZG0396',\n",
       " 'ZG0403',\n",
       " 'ZG0416',\n",
       " 'ZG0648',\n",
       " 'ZG0653',\n",
       " 'ZG0654',\n",
       " 'ZG0656',\n",
       " 'ZG0657',\n",
       " 'ZG0666',\n",
       " 'ZG0668',\n",
       " 'ZG0670',\n",
       " 'ZG0671',\n",
       " 'ZG0684',\n",
       " 'ZG0685',\n",
       " 'ZG0694',\n",
       " 'ZG0700',\n",
       " 'ZG0701',\n",
       " 'ZG0714',\n",
       " 'ZG0716',\n",
       " 'ZG0717',\n",
       " 'ZG0720',\n",
       " 'ZG0723',\n",
       " 'ZG0727',\n",
       " 'ZG0730',\n",
       " 'ZG0731',\n",
       " 'ZG0733',\n",
       " 'ZG0737',\n",
       " 'ZG0741',\n",
       " 'ZG0742',\n",
       " 'ZP0034',\n",
       " 'ZP0037',\n",
       " 'ZP0042',\n",
       " 'ZP0049',\n",
       " 'ZP0053',\n",
       " 'ZP0054',\n",
       " 'ZP0091',\n",
       " 'ZP0164',\n",
       " 'ZP0170',\n",
       " 'ZP0172',\n",
       " 'ZP0173',\n",
       " 'ZP0180',\n",
       " 'ZP0181',\n",
       " 'ZP0190',\n",
       " 'ZP0191',\n",
       " 'ZP0192',\n",
       " 'ZP0193',\n",
       " 'ZP0198',\n",
       " 'ZP0201',\n",
       " 'ZP0228',\n",
       " 'ZP0243',\n",
       " 'ZP0245',\n",
       " 'ZP0246',\n",
       " 'ZP0248',\n",
       " 'ZP0250',\n",
       " 'ZP0256',\n",
       " 'ZP0259',\n",
       " 'ZP0267',\n",
       " 'ZP0268',\n",
       " 'ZP0283',\n",
       " 'ZP0304',\n",
       " 'ZP0305',\n",
       " 'ZP0321',\n",
       " 'ZP0324',\n",
       " 'ZP0325',\n",
       " 'ZP0327',\n",
       " 'ZP0330',\n",
       " 'ZP0342',\n",
       " 'ZP0343',\n",
       " 'ZP0344',\n",
       " 'ZP0346',\n",
       " 'ZP0350',\n",
       " 'ZP0360',\n",
       " 'ZP0367',\n",
       " 'ZP0375',\n",
       " 'ZP0385',\n",
       " 'ZP0391',\n",
       " 'ZP0408',\n",
       " 'ZP0413',\n",
       " 'ZP0420',\n",
       " 'ZP0425',\n",
       " 'ZP0427',\n",
       " 'ZP0428',\n",
       " 'ZP0429',\n",
       " 'ZP0434',\n",
       " 'ZP0437',\n",
       " 'ZP0439',\n",
       " 'ZP0440',\n",
       " 'ZP0446',\n",
       " 'ZP0447',\n",
       " 'ZP0449',\n",
       " 'ZP0450',\n",
       " 'ZP0451',\n",
       " 'ZP0454',\n",
       " 'ZP0461',\n",
       " 'ZP0463',\n",
       " 'ZP0464',\n",
       " 'ZP0469',\n",
       " 'ZP0473',\n",
       " 'ZP0481',\n",
       " 'ZP0484',\n",
       " 'ZP0485',\n",
       " 'ZP0491',\n",
       " 'ZP0494',\n",
       " 'ZP0499',\n",
       " 'ZP0507',\n",
       " 'ZP0510',\n",
       " 'ZP0513',\n",
       " 'ZP0514',\n",
       " 'ZP0521',\n",
       " 'ZP0522',\n",
       " 'ZP0525',\n",
       " 'ZP0540',\n",
       " 'ZP0544',\n",
       " 'ZP0546',\n",
       " 'ZP0555',\n",
       " 'ZP0558',\n",
       " 'ZP0559',\n",
       " 'ZP0567',\n",
       " 'ZP0573',\n",
       " 'ZP0575',\n",
       " 'ZP0580',\n",
       " 'ZP0583',\n",
       " 'ZP0585',\n",
       " 'ZP0593',\n",
       " 'ZP0594',\n",
       " 'ZP0604',\n",
       " 'ZP0607',\n",
       " 'ZP0610',\n",
       " 'ZP0613',\n",
       " 'ZP0617',\n",
       " 'ZP0618',\n",
       " 'ZP0624']"
      ]
     },
     "execution_count": 275,
     "metadata": {},
     "output_type": "execute_result"
    }
   ],
   "source": [
    "test"
   ]
  },
  {
   "cell_type": "code",
   "execution_count": 276,
   "id": "a9347da2",
   "metadata": {},
   "outputs": [
    {
     "data": {
      "text/plain": [
       "184"
      ]
     },
     "execution_count": 276,
     "metadata": {},
     "output_type": "execute_result"
    }
   ],
   "source": [
    "# Test folders=174, total=742\n",
    "len(test)"
   ]
  },
  {
   "cell_type": "code",
   "execution_count": 277,
   "id": "db718265",
   "metadata": {},
   "outputs": [
    {
     "data": {
      "text/plain": [
       "0.23450134770889489"
      ]
     },
     "execution_count": 277,
     "metadata": {},
     "output_type": "execute_result"
    }
   ],
   "source": [
    "# Test folders % in telation to total number of folders.\n",
    "174 / 742"
   ]
  },
  {
   "cell_type": "code",
   "execution_count": 285,
   "id": "67de093b",
   "metadata": {},
   "outputs": [],
   "source": [
    "df = pd.read_csv(\"/mnt/NVME/KABR/annotation/data.csv\", sep=\" \")"
   ]
  },
  {
   "cell_type": "code",
   "execution_count": 286,
   "id": "cdec772d",
   "metadata": {},
   "outputs": [],
   "source": [
    "train_1 = []\n",
    "train_2 = []\n",
    "train_3 = []\n",
    "train_4 = []\n",
    "train_5 = []\n",
    "\n",
    "test_1 = []\n",
    "test_2 = []\n",
    "test_3 = []\n",
    "test_4 = []\n",
    "test_5 = []"
   ]
  },
  {
   "cell_type": "code",
   "execution_count": 287,
   "id": "a91b8063",
   "metadata": {},
   "outputs": [
    {
     "name": "stderr",
     "output_type": "stream",
     "text": [
      "100%|██████████████████████████████| 1139893/1139893 [00:48<00:00, 23500.65it/s]\n"
     ]
    }
   ],
   "source": [
    "for index, row in tqdm(df.iterrows(), total=df.shape[0]):\n",
    "    if row[\"original_vido_id\"] in test:\n",
    "        test_1.append(row[\"original_vido_id\"])\n",
    "        test_2.append(row[\"video_id\"])\n",
    "        test_3.append(row[\"frame_id\"])\n",
    "        test_4.append(row[\"path\"])\n",
    "        test_5.append(str(row[\"labels\"]))\n",
    "    else:\n",
    "        train_1.append(row[\"original_vido_id\"])\n",
    "        train_2.append(row[\"video_id\"])\n",
    "        train_3.append(row[\"frame_id\"])\n",
    "        train_4.append(row[\"path\"])\n",
    "        train_5.append(str(row[\"labels\"]))"
   ]
  },
  {
   "cell_type": "code",
   "execution_count": 288,
   "id": "35cd255d",
   "metadata": {},
   "outputs": [],
   "source": [
    "train_df = pd.DataFrame(data={\"original_vido_id\": train_1,\n",
    "                              \"video_id\": pd.Series(train_2, dtype=\"int\"),\n",
    "                              \"frame_id\": pd.Series(train_3, dtype=\"int\"),\n",
    "                              \"path\": train_4, \"labels\": train_5})\n",
    "test_df = pd.DataFrame(data={\"original_vido_id\": test_1,\n",
    "                              \"video_id\": pd.Series(test_2, dtype=\"int\"),\n",
    "                              \"frame_id\": pd.Series(test_3, dtype=\"int\"),\n",
    "                              \"path\": test_4, \"labels\": test_5})"
   ]
  },
  {
   "cell_type": "code",
   "execution_count": 289,
   "id": "7b80d2f9",
   "metadata": {},
   "outputs": [],
   "source": [
    "train_df.to_csv(f\"/mnt/NVME/KABR/annotation/train_new.csv\", sep=\" \", index=False)\n",
    "test_df.to_csv(f\"/mnt/NVME/KABR/annotation/val_new.csv\", sep=\" \", index=False)"
   ]
  },
  {
   "cell_type": "code",
   "execution_count": null,
   "id": "4e264d1e",
   "metadata": {},
   "outputs": [],
   "source": []
  }
 ],
 "metadata": {
  "kernelspec": {
   "display_name": "ml3.8",
   "language": "python",
   "name": "ml3.8"
  },
  "language_info": {
   "codemirror_mode": {
    "name": "ipython",
    "version": 3
   },
   "file_extension": ".py",
   "mimetype": "text/x-python",
   "name": "python",
   "nbconvert_exporter": "python",
   "pygments_lexer": "ipython3",
   "version": "3.8.16"
  }
 },
 "nbformat": 4,
 "nbformat_minor": 5
}
