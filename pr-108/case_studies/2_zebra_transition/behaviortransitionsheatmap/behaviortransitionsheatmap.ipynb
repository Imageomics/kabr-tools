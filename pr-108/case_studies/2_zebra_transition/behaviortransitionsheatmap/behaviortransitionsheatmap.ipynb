{
 "cells": [
  {
   "cell_type": "markdown",
   "metadata": {},
   "source": [
    "# Behavior transition probabilities"
   ]
  },
  {
   "cell_type": "markdown",
   "metadata": {},
   "source": [
    "This script calculates the transition probabilities for zebra behaviors (Grevy's and Plains) from the subset of KABR sessions originally included in the initial mini-scene release."
   ]
  },
  {
   "cell_type": "markdown",
   "metadata": {},
   "source": [
    "### Download dataset from HuggingFace\n",
    "\n",
    "Use 'consolidated_metadata.csv' file from [kabr-datapalooza-2023](https://huggingface.co/datasets/imageomics/kabr-datapalooza-2023-subset/tree/main/data/consolidated_metadata.csv) for data used in this case study."
   ]
  },
  {
   "cell_type": "code",
   "execution_count": 2,
   "metadata": {},
   "outputs": [],
   "source": [
    "import pandas as pd\n",
    "import seaborn as sns\n",
    "import matplotlib.pyplot as plt\n",
    "import warnings\n",
    "warnings.filterwarnings('ignore')"
   ]
  },
  {
   "cell_type": "code",
   "execution_count": 3,
   "metadata": {},
   "outputs": [],
   "source": [
    "data = pd.read_csv('data/consolidated_metadata.csv')"
   ]
  },
  {
   "cell_type": "code",
   "execution_count": 4,
   "metadata": {},
   "outputs": [],
   "source": [
    "zebras = data[data['label'] == 'Zebra']\n",
    "zebras = zebras[['frame', 'id', 'behaviour', 'video']]\n",
    "zebras['time'] = pd.to_datetime(zebras['frame'], unit='s') - pd.to_datetime(zebras['frame'], unit='s').min()"
   ]
  },
  {
   "cell_type": "code",
   "execution_count": 5,
   "metadata": {},
   "outputs": [
    {
     "data": {
      "text/plain": [
       "array(['Walk', 'Head Up', 'Out of Frame', 'Graze', 'Occluded',\n",
       "       'Out of Focus', 'Auto-Groom', 'Defecating', 'Trotting', 'Running',\n",
       "       'Sniff', 'Mutual Grooming', 'Urinating', 'Fighting'], dtype=object)"
      ]
     },
     "execution_count": 5,
     "metadata": {},
     "output_type": "execute_result"
    }
   ],
   "source": [
    "zebras['behaviour'].unique()"
   ]
  },
  {
   "cell_type": "code",
   "execution_count": 7,
   "metadata": {},
   "outputs": [
    {
     "data": {
      "text/html": [
       "<div>\n",
       "<style scoped>\n",
       "    .dataframe tbody tr th:only-of-type {\n",
       "        vertical-align: middle;\n",
       "    }\n",
       "\n",
       "    .dataframe tbody tr th {\n",
       "        vertical-align: top;\n",
       "    }\n",
       "\n",
       "    .dataframe thead th {\n",
       "        text-align: right;\n",
       "    }\n",
       "</style>\n",
       "<table border=\"1\" class=\"dataframe\">\n",
       "  <thead>\n",
       "    <tr style=\"text-align: right;\">\n",
       "      <th></th>\n",
       "      <th>frame</th>\n",
       "      <th>id</th>\n",
       "      <th>behaviour</th>\n",
       "      <th>video</th>\n",
       "      <th>time</th>\n",
       "    </tr>\n",
       "  </thead>\n",
       "  <tbody>\n",
       "    <tr>\n",
       "      <th>0</th>\n",
       "      <td>0</td>\n",
       "      <td>2.0</td>\n",
       "      <td>Walk</td>\n",
       "      <td>12_01_23-DJI_0994</td>\n",
       "      <td>0 days 00:00:00</td>\n",
       "    </tr>\n",
       "    <tr>\n",
       "      <th>1</th>\n",
       "      <td>0</td>\n",
       "      <td>1.0</td>\n",
       "      <td>Walk</td>\n",
       "      <td>12_01_23-DJI_0994</td>\n",
       "      <td>0 days 00:00:00</td>\n",
       "    </tr>\n",
       "    <tr>\n",
       "      <th>2</th>\n",
       "      <td>1</td>\n",
       "      <td>2.0</td>\n",
       "      <td>Walk</td>\n",
       "      <td>12_01_23-DJI_0994</td>\n",
       "      <td>0 days 00:00:01</td>\n",
       "    </tr>\n",
       "    <tr>\n",
       "      <th>3</th>\n",
       "      <td>1</td>\n",
       "      <td>1.0</td>\n",
       "      <td>Walk</td>\n",
       "      <td>12_01_23-DJI_0994</td>\n",
       "      <td>0 days 00:00:01</td>\n",
       "    </tr>\n",
       "    <tr>\n",
       "      <th>4</th>\n",
       "      <td>2</td>\n",
       "      <td>2.0</td>\n",
       "      <td>Walk</td>\n",
       "      <td>12_01_23-DJI_0994</td>\n",
       "      <td>0 days 00:00:02</td>\n",
       "    </tr>\n",
       "    <tr>\n",
       "      <th>5</th>\n",
       "      <td>2</td>\n",
       "      <td>1.0</td>\n",
       "      <td>Walk</td>\n",
       "      <td>12_01_23-DJI_0994</td>\n",
       "      <td>0 days 00:00:02</td>\n",
       "    </tr>\n",
       "    <tr>\n",
       "      <th>6</th>\n",
       "      <td>3</td>\n",
       "      <td>2.0</td>\n",
       "      <td>Walk</td>\n",
       "      <td>12_01_23-DJI_0994</td>\n",
       "      <td>0 days 00:00:03</td>\n",
       "    </tr>\n",
       "    <tr>\n",
       "      <th>7</th>\n",
       "      <td>3</td>\n",
       "      <td>1.0</td>\n",
       "      <td>Walk</td>\n",
       "      <td>12_01_23-DJI_0994</td>\n",
       "      <td>0 days 00:00:03</td>\n",
       "    </tr>\n",
       "    <tr>\n",
       "      <th>8</th>\n",
       "      <td>4</td>\n",
       "      <td>2.0</td>\n",
       "      <td>Walk</td>\n",
       "      <td>12_01_23-DJI_0994</td>\n",
       "      <td>0 days 00:00:04</td>\n",
       "    </tr>\n",
       "    <tr>\n",
       "      <th>9</th>\n",
       "      <td>4</td>\n",
       "      <td>1.0</td>\n",
       "      <td>Walk</td>\n",
       "      <td>12_01_23-DJI_0994</td>\n",
       "      <td>0 days 00:00:04</td>\n",
       "    </tr>\n",
       "    <tr>\n",
       "      <th>10</th>\n",
       "      <td>5</td>\n",
       "      <td>1.0</td>\n",
       "      <td>Walk</td>\n",
       "      <td>12_01_23-DJI_0994</td>\n",
       "      <td>0 days 00:00:05</td>\n",
       "    </tr>\n",
       "    <tr>\n",
       "      <th>11</th>\n",
       "      <td>5</td>\n",
       "      <td>2.0</td>\n",
       "      <td>Walk</td>\n",
       "      <td>12_01_23-DJI_0994</td>\n",
       "      <td>0 days 00:00:05</td>\n",
       "    </tr>\n",
       "  </tbody>\n",
       "</table>\n",
       "</div>"
      ],
      "text/plain": [
       "    frame   id behaviour              video            time\n",
       "0       0  2.0      Walk  12_01_23-DJI_0994 0 days 00:00:00\n",
       "1       0  1.0      Walk  12_01_23-DJI_0994 0 days 00:00:00\n",
       "2       1  2.0      Walk  12_01_23-DJI_0994 0 days 00:00:01\n",
       "3       1  1.0      Walk  12_01_23-DJI_0994 0 days 00:00:01\n",
       "4       2  2.0      Walk  12_01_23-DJI_0994 0 days 00:00:02\n",
       "5       2  1.0      Walk  12_01_23-DJI_0994 0 days 00:00:02\n",
       "6       3  2.0      Walk  12_01_23-DJI_0994 0 days 00:00:03\n",
       "7       3  1.0      Walk  12_01_23-DJI_0994 0 days 00:00:03\n",
       "8       4  2.0      Walk  12_01_23-DJI_0994 0 days 00:00:04\n",
       "9       4  1.0      Walk  12_01_23-DJI_0994 0 days 00:00:04\n",
       "10      5  1.0      Walk  12_01_23-DJI_0994 0 days 00:00:05\n",
       "11      5  2.0      Walk  12_01_23-DJI_0994 0 days 00:00:05"
      ]
     },
     "execution_count": 7,
     "metadata": {},
     "output_type": "execute_result"
    }
   ],
   "source": [
    "zebras.head(12)"
   ]
  },
  {
   "cell_type": "code",
   "execution_count": 9,
   "metadata": {},
   "outputs": [],
   "source": [
    "# zebras_sorted = zebras_sorted[zebras_sorted['behaviour'] != 'Out of Frame']\n",
    "\n",
    "zebras = zebras[zebras['behaviour'] != 'Out of Frame']\n",
    "zebras = zebras[zebras['behaviour']!= 'Occluded']\n",
    "zebras = zebras[zebras['behaviour'] != 'Out of Focus']"
   ]
  },
  {
   "cell_type": "code",
   "execution_count": 10,
   "metadata": {},
   "outputs": [
    {
     "data": {
      "text/plain": [
       "933190"
      ]
     },
     "execution_count": 10,
     "metadata": {},
     "output_type": "execute_result"
    }
   ],
   "source": [
    "len(zebras)"
   ]
  },
  {
   "cell_type": "code",
   "execution_count": 11,
   "metadata": {},
   "outputs": [
    {
     "data": {
      "text/plain": [
       "Timedelta('0 days 02:25:22')"
      ]
     },
     "execution_count": 11,
     "metadata": {},
     "output_type": "execute_result"
    }
   ],
   "source": [
    "zebras['time'].max()\n"
   ]
  },
  {
   "cell_type": "code",
   "execution_count": 8,
   "metadata": {},
   "outputs": [],
   "source": [
    "# combine behavior categories into stand-graze, walk, trot, and run\n",
    "zebras['behaviour'] = zebras['behaviour'].replace('Graze', 'Graze')\n",
    "zebras['behaviour'] = zebras['behaviour'].replace('Walk', 'Walk')\n",
    "zebras['behaviour'] = zebras['behaviour'].replace('Trotting', 'Trot')\n",
    "zebras['behaviour'] = zebras['behaviour'].replace('Running', 'Run')\n",
    "\n",
    "# drop all other categories of behavior\n",
    "zebras = zebras[zebras['behaviour'].isin(['Graze', 'Walk', 'Trot', 'Run'])]"
   ]
  },
  {
   "cell_type": "code",
   "execution_count": 15,
   "metadata": {},
   "outputs": [],
   "source": [
    "# downsample to 10 sec (30 fps)\n",
    "zebras = zebras[zebras['time'].dt.seconds % (300) == 0]"
   ]
  },
  {
   "cell_type": "code",
   "execution_count": 16,
   "metadata": {},
   "outputs": [],
   "source": [
    "# count each occurance of transitions between behaviours\n",
    "# create dataframe to store the counts of transitions from one behaviour to another\n",
    "behaviors = zebras['behaviour'].unique()\n",
    "transition_counts = pd.DataFrame(index=behaviors, columns=behaviors)\n",
    "transition_counts = transition_counts.fillna(0)"
   ]
  },
  {
   "cell_type": "code",
   "execution_count": 17,
   "metadata": {},
   "outputs": [],
   "source": [
    "# count the occurance of each transition for each unique zebra (id)\n",
    "for video in zebras['video'].unique():\n",
    "    for zebra in zebras[zebras['video'] == video]['id'].unique():\n",
    "        zebra_data = zebras[(zebras['video'] == video) & (zebras['id'] == zebra)]\n",
    "        for i in range(1, len(zebra_data)):\n",
    "            transition_counts.loc[zebra_data.iloc[i-1]['behaviour'], zebra_data.iloc[i]['behaviour']] += 1"
   ]
  },
  {
   "cell_type": "code",
   "execution_count": 16,
   "metadata": {},
   "outputs": [
    {
     "data": {
      "text/html": [
       "<div>\n",
       "<style scoped>\n",
       "    .dataframe tbody tr th:only-of-type {\n",
       "        vertical-align: middle;\n",
       "    }\n",
       "\n",
       "    .dataframe tbody tr th {\n",
       "        vertical-align: top;\n",
       "    }\n",
       "\n",
       "    .dataframe thead th {\n",
       "        text-align: right;\n",
       "    }\n",
       "</style>\n",
       "<table border=\"1\" class=\"dataframe\">\n",
       "  <thead>\n",
       "    <tr style=\"text-align: right;\">\n",
       "      <th></th>\n",
       "      <th>Walk</th>\n",
       "      <th>Graze</th>\n",
       "      <th>Run</th>\n",
       "      <th>Trot</th>\n",
       "    </tr>\n",
       "  </thead>\n",
       "  <tbody>\n",
       "    <tr>\n",
       "      <th>Walk</th>\n",
       "      <td>650</td>\n",
       "      <td>97</td>\n",
       "      <td>16</td>\n",
       "      <td>20</td>\n",
       "    </tr>\n",
       "    <tr>\n",
       "      <th>Graze</th>\n",
       "      <td>95</td>\n",
       "      <td>1004</td>\n",
       "      <td>0</td>\n",
       "      <td>2</td>\n",
       "    </tr>\n",
       "    <tr>\n",
       "      <th>Run</th>\n",
       "      <td>8</td>\n",
       "      <td>0</td>\n",
       "      <td>26</td>\n",
       "      <td>4</td>\n",
       "    </tr>\n",
       "    <tr>\n",
       "      <th>Trot</th>\n",
       "      <td>15</td>\n",
       "      <td>3</td>\n",
       "      <td>4</td>\n",
       "      <td>6</td>\n",
       "    </tr>\n",
       "  </tbody>\n",
       "</table>\n",
       "</div>"
      ],
      "text/plain": [
       "       Walk  Graze  Run  Trot\n",
       "Walk    650     97   16    20\n",
       "Graze    95   1004    0     2\n",
       "Run       8      0   26     4\n",
       "Trot     15      3    4     6"
      ]
     },
     "execution_count": 16,
     "metadata": {},
     "output_type": "execute_result"
    }
   ],
   "source": [
    "transition_counts"
   ]
  },
  {
   "cell_type": "code",
   "execution_count": 17,
   "metadata": {},
   "outputs": [
    {
     "data": {
      "text/html": [
       "<div>\n",
       "<style scoped>\n",
       "    .dataframe tbody tr th:only-of-type {\n",
       "        vertical-align: middle;\n",
       "    }\n",
       "\n",
       "    .dataframe tbody tr th {\n",
       "        vertical-align: top;\n",
       "    }\n",
       "\n",
       "    .dataframe thead th {\n",
       "        text-align: right;\n",
       "    }\n",
       "</style>\n",
       "<table border=\"1\" class=\"dataframe\">\n",
       "  <thead>\n",
       "    <tr style=\"text-align: right;\">\n",
       "      <th></th>\n",
       "      <th>Walk</th>\n",
       "      <th>Graze</th>\n",
       "      <th>Run</th>\n",
       "      <th>Trot</th>\n",
       "    </tr>\n",
       "  </thead>\n",
       "  <tbody>\n",
       "    <tr>\n",
       "      <th>Walk</th>\n",
       "      <td>0.830140</td>\n",
       "      <td>0.123883</td>\n",
       "      <td>0.020434</td>\n",
       "      <td>0.025543</td>\n",
       "    </tr>\n",
       "    <tr>\n",
       "      <th>Graze</th>\n",
       "      <td>0.086285</td>\n",
       "      <td>0.911898</td>\n",
       "      <td>0.000000</td>\n",
       "      <td>0.001817</td>\n",
       "    </tr>\n",
       "    <tr>\n",
       "      <th>Run</th>\n",
       "      <td>0.210526</td>\n",
       "      <td>0.000000</td>\n",
       "      <td>0.684211</td>\n",
       "      <td>0.105263</td>\n",
       "    </tr>\n",
       "    <tr>\n",
       "      <th>Trot</th>\n",
       "      <td>0.535714</td>\n",
       "      <td>0.107143</td>\n",
       "      <td>0.142857</td>\n",
       "      <td>0.214286</td>\n",
       "    </tr>\n",
       "  </tbody>\n",
       "</table>\n",
       "</div>"
      ],
      "text/plain": [
       "           Walk     Graze       Run      Trot\n",
       "Walk   0.830140  0.123883  0.020434  0.025543\n",
       "Graze  0.086285  0.911898  0.000000  0.001817\n",
       "Run    0.210526  0.000000  0.684211  0.105263\n",
       "Trot   0.535714  0.107143  0.142857  0.214286"
      ]
     },
     "execution_count": 17,
     "metadata": {},
     "output_type": "execute_result"
    }
   ],
   "source": [
    "# normalize transitions by the total number of transitions\n",
    "transition_counts_normalized = transition_counts.div(transition_counts.sum(axis=1), axis=0)\n",
    "transition_counts_normalized"
   ]
  },
  {
   "cell_type": "code",
   "execution_count": 20,
   "metadata": {},
   "outputs": [],
   "source": [
    "# convert to percentages and rounds to 2 decimal places\n",
    "transition_counts_normalized =round(transition_counts_normalized * 100, 2)"
   ]
  },
  {
   "cell_type": "code",
   "execution_count": 21,
   "metadata": {},
   "outputs": [],
   "source": [
    "transition_counts_normalized\n",
    "# switch order of walk and stand-graze in the table\n",
    "transition_counts_normalized = transition_counts_normalized[['Graze', 'Walk', 'Trot', 'Run']]\n",
    "#transition_counts_normalized = transition_counts_normalized.reindex(['Graze', 'Walk', 'Trot', 'Run'])\n"
   ]
  },
  {
   "cell_type": "code",
   "execution_count": 22,
   "metadata": {},
   "outputs": [],
   "source": [
    "# calculate the percentages row-wise for transitions\n",
    "transition_percentages = transition_counts.div(transition_counts.sum(axis=1), axis=0)\n",
    "# sort rows and columns by the order of the behaviors\n",
    "behaviors = transition_percentages.columns\n",
    "transition_percentages = transition_percentages.reindex(behaviors, axis=0)\n",
    "transition_percentages = transition_percentages.reindex(behaviors, axis=1)\n",
    "transition_percentages = round(transition_percentages*100, 2)"
   ]
  },
  {
   "cell_type": "code",
   "execution_count": 24,
   "metadata": {},
   "outputs": [
    {
     "data": {
      "image/png": "[encoded data removed]",
      "text/plain": [
       "<Figure size 1000x800 with 2 Axes>"
      ]
     },
     "metadata": {},
     "output_type": "display_data"
    }
   ],
   "source": [
    "# Reorder rows and columns to switch \"Walk\" and \"Graze\"\n",
    "reordered_behaviors = ['Graze', 'Walk', 'Trot', 'Run']\n",
    "transition_percentages = transition_percentages.reindex(reordered_behaviors, axis=0)\n",
    "transition_percentages = transition_percentages.reindex(reordered_behaviors, axis=1)\n",
    "\n",
    "# Plot the heatmap with the updated order\n",
    "plt.figure(figsize=(10, 8))\n",
    "sns.heatmap(transition_percentages, cmap='rocket', annot=True, fmt='g')\n",
    "\n",
    "# Add numbers on each cell\n",
    "for i in range(len(reordered_behaviors)):\n",
    "    for j in range(len(reordered_behaviors)):\n",
    "        plt.text(j + 0.5, i + 0.5, transition_percentages.iloc[i, j],\n",
    "                 horizontalalignment='center',\n",
    "                 verticalalignment='center')\n",
    "\n",
    "plt.title('Transition Percentages Between Behaviors')\n",
    "plt.xlabel('Current Behavior')\n",
    "plt.ylabel('Previous Behavior')\n",
    "plt.show()"
   ]
  },
  {
   "cell_type": "code",
   "execution_count": 27,
   "metadata": {},
   "outputs": [
    {
     "data": {
      "image/png": "[encoded data removed]",
      "text/plain": [
       "<Figure size 1000x800 with 2 Axes>"
      ]
     },
     "metadata": {},
     "output_type": "display_data"
    }
   ],
   "source": [
    "# heatmap of transition percentages\n",
    "plt.figure(figsize=(10, 8))\n",
    "sns.heatmap(transition_percentages, cmap='cividis', fmt='g')\n",
    "plt.title('Transitions Between Locomotion Behavior Categories (1 second intervals)')\n",
    "plt.xticks(rotation=45, fontsize=15)\n",
    "plt.yticks(rotation=0, fontsize=15)\n",
    "plt.title('Transitions Between Zebra Locomotion Behaviors', fontsize=20)\n",
    "plt.xlabel('Current Behavior', fontsize=20)\n",
    "plt.ylabel('Previous Behavior', fontsize=20)\n",
    "plt.show()"
   ]
  },
  {
   "cell_type": "code",
   "execution_count": null,
   "metadata": {},
   "outputs": [],
   "source": []
  }
 ],
 "metadata": {
  "kernelspec": {
   "display_name": "kabr_env",
   "language": "python",
   "name": "python3"
  },
  "language_info": {
   "codemirror_mode": {
    "name": "ipython",
    "version": 3
   },
   "file_extension": ".py",
   "mimetype": "text/x-python",
   "name": "python",
   "nbconvert_exporter": "python",
   "pygments_lexer": "ipython3",
   "version": "3.11.11"
  }
 },
 "nbformat": 4,
 "nbformat_minor": 2
}
