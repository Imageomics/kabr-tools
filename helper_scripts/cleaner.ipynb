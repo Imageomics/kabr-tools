{
 "cells": [
  {
   "cell_type": "code",
   "execution_count": 1,
   "id": "2990b3fe",
   "metadata": {},
   "outputs": [],
   "source": [
    "import os\n",
    "from lxml import etree\n",
    "from collections import OrderedDict"
   ]
  },
  {
   "cell_type": "code",
   "execution_count": 2,
   "id": "bbd4ddb3",
   "metadata": {},
   "outputs": [],
   "source": [
    "# path to video mp4\n",
    "video_path = \"replace_me\"\n",
    "\n",
    "# path to CVAT export xml\n",
    "annotation_path = \"replace_me\"\n",
    "\n",
    "# path to tracks directory\n",
    "tracks_location = \"replace_me\""
   ]
  },
  {
   "cell_type": "code",
   "execution_count": 3,
   "id": "8fb0b90f",
   "metadata": {},
   "outputs": [],
   "source": [
    "root = etree.parse(annotation_path).getroot()\n",
    "annotated = dict()\n",
    "track2end = {}\n",
    "\n",
    "for track in root.iterfind(\"track\"):\n",
    "    track_id = int(track.attrib[\"id\"])\n",
    "\n",
    "    for box in track.iter(\"box\"):\n",
    "        frame_id = int(box.attrib[\"frame\"])\n",
    "        keyframe = int(box.attrib[\"keyframe\"])\n",
    "\n",
    "        if keyframe == 1:\n",
    "            track2end[track_id] = frame_id\n",
    "\n",
    "for track in root.iterfind(\"track\"):\n",
    "    track_id = int(track.attrib[\"id\"])\n",
    "\n",
    "    for box in track.iter(\"box\"):\n",
    "        frame_id = int(box.attrib[\"frame\"])\n",
    "        keyframe = int(box.attrib[\"keyframe\"])\n",
    "\n",
    "        if frame_id <= track2end[track_id]:\n",
    "            if annotated.get(track_id) is None:\n",
    "                annotated[track_id] = OrderedDict()\n",
    "                \n",
    "            scaling_factor = 3\n",
    "\n",
    "            annotated[track_id][frame_id] = [int(float(box.attrib[\"xtl\"])*scaling_factor),\n",
    "                                                int(float(box.attrib[\"ytl\"])*scaling_factor),\n",
    "                                                int(float(box.attrib[\"xbr\"])*scaling_factor),\n",
    "                                                int(float(box.attrib[\"ybr\"])*scaling_factor), keyframe]"
   ]
  },
  {
   "cell_type": "code",
   "execution_count": 4,
   "id": "a63042c5",
   "metadata": {},
   "outputs": [],
   "source": [
    "xml_page = etree.Element(\"annotations\")\n",
    "etree.SubElement(xml_page, \"version\").text = \"1.1\"\n",
    "\n",
    "for track_id in annotated.keys():\n",
    "    xml_track = etree.Element(\"track\", id=str(track_id), label=\"Grevy\", source=\"manual\")\n",
    "\n",
    "    for frame_id in annotated[track_id].keys():\n",
    "        if frame_id == sorted(annotated[track_id].keys())[-1]:\n",
    "            outside = \"1\"\n",
    "        else:\n",
    "            outside = \"0\"\n",
    "\n",
    "        xml_box = etree.Element(\"box\", frame=str(frame_id), outside=outside, occluded=\"0\",\n",
    "                                keyframe=str(annotated[track_id][frame_id][4]),\n",
    "                                xtl=f\"{annotated[track_id][frame_id][0]:.2f}\",\n",
    "                                ytl=f\"{annotated[track_id][frame_id][1]:.2f}\",\n",
    "                                xbr=f\"{annotated[track_id][frame_id][2]:.2f}\",\n",
    "                                ybr=f\"{annotated[track_id][frame_id][3]:.2f}\", z_order=\"0\")\n",
    "\n",
    "        xml_track.append(xml_box)\n",
    "\n",
    "    if len(annotated[track_id].keys()) > 0:\n",
    "        xml_page.append(xml_track)\n",
    "\n",
    "\n",
    "# Parse the original XML file\n",
    "original_tree = etree.parse(annotation_path)\n",
    "original_root = original_tree.getroot()\n",
    "\n",
    "# Extract the 'meta' element\n",
    "meta = original_root.find('meta')\n",
    "\n",
    "# Append 'meta' to the new XML document\n",
    "xml_page.append(meta)\n",
    "\n",
    "xml_document = etree.ElementTree(xml_page)\n",
    "\n",
    "xml_document.write(f\"{tracks_location}/tracks_.xml\", xml_declaration=True, pretty_print=True, encoding=\"utf-8\")"
   ]
  },
  {
   "cell_type": "markdown",
   "id": "a41a25df",
   "metadata": {},
   "source": [
    "# Extract tracks with KABR tools"
   ]
  },
  {
   "cell_type": "code",
   "execution_count": null,
   "id": "157201bc",
   "metadata": {},
   "outputs": [],
   "source": [
    "os.system(f\"tracks_extractor --video {video_path} --annotation {tracks_location}/tracks_.xml\")"
   ]
  }
 ],
 "metadata": {
  "kernelspec": {
   "display_name": "ml",
   "language": "python",
   "name": "python3"
  },
  "language_info": {
   "codemirror_mode": {
    "name": "ipython",
    "version": 3
   },
   "file_extension": ".py",
   "mimetype": "text/x-python",
   "name": "python",
   "nbconvert_exporter": "python",
   "pygments_lexer": "ipython3",
   "version": "3.10.14"
  }
 },
 "nbformat": 4,
 "nbformat_minor": 5
}
